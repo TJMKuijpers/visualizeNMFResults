{
 "cells": [
  {
   "cell_type": "code",
   "execution_count": 1,
   "metadata": {
    "collapsed": true,
    "pycharm": {
     "name": "#%%\n"
    }
   },
   "outputs": [],
   "source": [
    "############################################################################\n",
    "# This notebook is used to analyze the EGM results for the total cohort\n",
    "############################################################################\n",
    "# Author: T.J.M. Kuijpers   Date file created: 23 - Arpil - 2020"
   ]
  },
  {
   "cell_type": "code",
   "execution_count": 2,
   "outputs": [],
   "source": [
    "import pandas as pd\n",
    "import numpy as np\n",
    "import seaborn as sns"
   ],
   "metadata": {
    "collapsed": false,
    "pycharm": {
     "name": "#%%\n"
    }
   }
  },
  {
   "cell_type": "code",
   "execution_count": 3,
   "outputs": [],
   "source": [
    "# Set the path to the cluster file\n",
    "pathToCluster=\"C:/Users/tim.kuijpers/Desktop/EGM/Resultaten cohort totaal/cluster3.csv\"\n",
    "seperator=\",\"\n",
    "# Set the path to the data file that contains POP exposure profiles\n",
    "pathToPOP=\"C:/Users/tim.kuijpers/Desktop/EGM/POPExposureObject_EGM.txt\"\n",
    "seperatorPopFile=\"\\t\"\n",
    "# Set the path to the data file that contains the meta data (clinical info) of each sample\n",
    "pathToMeta=\"C:/Users/tim.kuijpers/Desktop/EGM/ClinicalDataEGMSamples.csv\"\n",
    "seperatorMetaData=\",\""
   ],
   "metadata": {
    "collapsed": false,
    "pycharm": {
     "name": "#%%\n"
    }
   }
  },
  {
   "cell_type": "code",
   "execution_count": 4,
   "outputs": [
    {
     "name": "stdout",
     "output_type": "stream",
     "text": [
      "(610, 3)\n",
      "(610, 16)\n",
      "(610, 25)\n"
     ]
    }
   ],
   "source": [
    "# Read the data\n",
    "clusterData=pd.read_csv(pathToCluster,sep=seperator)\n",
    "popExposuredata=pd.read_csv(pathToPOP,sep=seperatorPopFile)\n",
    "clinicalDataSamples=pd.read_csv(pathToMeta,sep=seperatorMetaData)\n",
    "# Get the shape of the data\n",
    "print(clusterData.shape)\n",
    "print(popExposuredata.shape)\n",
    "print(clinicalDataSamples.shape)"
   ],
   "metadata": {
    "collapsed": false,
    "pycharm": {
     "name": "#%%\n"
    }
   }
  },
  {
   "cell_type": "code",
   "execution_count": 4,
   "outputs": [],
   "source": [],
   "metadata": {
    "collapsed": false,
    "pycharm": {
     "name": "#%%\n"
    }
   }
  }
 ],
 "metadata": {
  "kernelspec": {
   "name": "python3",
   "language": "python",
   "display_name": "Python 3"
  },
  "language_info": {
   "codemirror_mode": {
    "name": "ipython",
    "version": 2
   },
   "file_extension": ".py",
   "mimetype": "text/x-python",
   "name": "python",
   "nbconvert_exporter": "python",
   "pygments_lexer": "ipython2",
   "version": "2.7.6"
  }
 },
 "nbformat": 4,
 "nbformat_minor": 0
}